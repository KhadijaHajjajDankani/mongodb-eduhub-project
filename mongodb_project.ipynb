{
 "cells": [
  {
   "cell_type": "code",
   "execution_count": null,
   "id": "84c199f8",
   "metadata": {},
   "outputs": [],
   "source": []
  },
  {
   "cell_type": "code",
   "execution_count": 1,
   "id": "02c59beb",
   "metadata": {},
   "outputs": [
    {
     "name": "stdout",
     "output_type": "stream",
     "text": [
      "✅ Connected to MongoDB successfully.\n"
     ]
    }
   ],
   "source": [
    "# MongoDB Connection Setup\n",
    "from pymongo import MongoClient\n",
    "from dotenv import load_dotenv\n",
    "import os\n",
    "\n",
    "load_dotenv()\n",
    "uri = os.getenv(\"MONGODB_URI\")\n",
    "client = MongoClient(uri)\n",
    "db = client[\"eduhub_db\"]\n",
    "\n",
    "print(\"✅ Connected to MongoDB successfully.\")"
   ]
  },
  {
   "cell_type": "code",
   "execution_count": 3,
   "id": "b05dbcc6",
   "metadata": {},
   "outputs": [
    {
     "name": "stdout",
     "output_type": "stream",
     "text": [
      "✅ Inserted user with _id: 6849b934a10b35872998ec14\n"
     ]
    }
   ],
   "source": [
    "# Insert a sample user\n",
    "sample_user = {\n",
    "    \"userId\": \"U100\",\n",
    "    \"firstName\": \"Notebook\",\n",
    "    \"lastName\": \"Tester\",\n",
    "    \"email\": \"notebookuser@example.com\",\n",
    "    \"role\": \"student\",\n",
    "    \"isActive\": True\n",
    "}\n",
    "\n",
    "result = db.users.insert_one(sample_user)\n",
    "print(f\"✅ Inserted user with _id: {result.inserted_id}\")\n",
    "\n",
    "\n"
   ]
  },
  {
   "cell_type": "code",
   "execution_count": 6,
   "id": "1a7e1861",
   "metadata": {},
   "outputs": [
    {
     "data": {
      "text/html": [
       "<div>\n",
       "<style scoped>\n",
       "    .dataframe tbody tr th:only-of-type {\n",
       "        vertical-align: middle;\n",
       "    }\n",
       "\n",
       "    .dataframe tbody tr th {\n",
       "        vertical-align: top;\n",
       "    }\n",
       "\n",
       "    .dataframe thead th {\n",
       "        text-align: right;\n",
       "    }\n",
       "</style>\n",
       "<table border=\"1\" class=\"dataframe\">\n",
       "  <thead>\n",
       "    <tr style=\"text-align: right;\">\n",
       "      <th></th>\n",
       "      <th>userId</th>\n",
       "      <th>email</th>\n",
       "      <th>firstName</th>\n",
       "      <th>lastName</th>\n",
       "      <th>role</th>\n",
       "      <th>dateJoined</th>\n",
       "      <th>profile</th>\n",
       "      <th>isActive</th>\n",
       "    </tr>\n",
       "  </thead>\n",
       "  <tbody>\n",
       "    <tr>\n",
       "      <th>0</th>\n",
       "      <td>U001</td>\n",
       "      <td>user1@example.com</td>\n",
       "      <td>First1</td>\n",
       "      <td>Last1</td>\n",
       "      <td>student</td>\n",
       "      <td>2025-06-11T10:16:39.958222</td>\n",
       "      <td>{'bio': 'Bio of user 1', 'avatar': 'https://ex...</td>\n",
       "      <td>True</td>\n",
       "    </tr>\n",
       "    <tr>\n",
       "      <th>1</th>\n",
       "      <td>U002</td>\n",
       "      <td>user2@example.com</td>\n",
       "      <td>First2</td>\n",
       "      <td>Last2</td>\n",
       "      <td>student</td>\n",
       "      <td>2025-06-11T10:16:39.958233</td>\n",
       "      <td>{'bio': 'Bio of user 2', 'avatar': 'https://ex...</td>\n",
       "      <td>True</td>\n",
       "    </tr>\n",
       "    <tr>\n",
       "      <th>2</th>\n",
       "      <td>U003</td>\n",
       "      <td>user3@example.com</td>\n",
       "      <td>First3</td>\n",
       "      <td>Last3</td>\n",
       "      <td>student</td>\n",
       "      <td>2025-06-11T10:16:39.958237</td>\n",
       "      <td>{'bio': 'Bio of user 3', 'avatar': 'https://ex...</td>\n",
       "      <td>True</td>\n",
       "    </tr>\n",
       "    <tr>\n",
       "      <th>3</th>\n",
       "      <td>U004</td>\n",
       "      <td>user4@example.com</td>\n",
       "      <td>First4</td>\n",
       "      <td>Last4</td>\n",
       "      <td>student</td>\n",
       "      <td>2025-06-11T10:16:39.958240</td>\n",
       "      <td>{'bio': 'Bio of user 4', 'avatar': 'https://ex...</td>\n",
       "      <td>True</td>\n",
       "    </tr>\n",
       "    <tr>\n",
       "      <th>4</th>\n",
       "      <td>U005</td>\n",
       "      <td>user5@example.com</td>\n",
       "      <td>First5</td>\n",
       "      <td>Last5</td>\n",
       "      <td>instructor</td>\n",
       "      <td>2025-06-11T10:16:39.958244</td>\n",
       "      <td>{'bio': 'Bio of user 5', 'avatar': 'https://ex...</td>\n",
       "      <td>True</td>\n",
       "    </tr>\n",
       "  </tbody>\n",
       "</table>\n",
       "</div>"
      ],
      "text/plain": [
       "  userId              email firstName lastName        role  \\\n",
       "0   U001  user1@example.com    First1    Last1     student   \n",
       "1   U002  user2@example.com    First2    Last2     student   \n",
       "2   U003  user3@example.com    First3    Last3     student   \n",
       "3   U004  user4@example.com    First4    Last4     student   \n",
       "4   U005  user5@example.com    First5    Last5  instructor   \n",
       "\n",
       "                   dateJoined  \\\n",
       "0  2025-06-11T10:16:39.958222   \n",
       "1  2025-06-11T10:16:39.958233   \n",
       "2  2025-06-11T10:16:39.958237   \n",
       "3  2025-06-11T10:16:39.958240   \n",
       "4  2025-06-11T10:16:39.958244   \n",
       "\n",
       "                                             profile  isActive  \n",
       "0  {'bio': 'Bio of user 1', 'avatar': 'https://ex...      True  \n",
       "1  {'bio': 'Bio of user 2', 'avatar': 'https://ex...      True  \n",
       "2  {'bio': 'Bio of user 3', 'avatar': 'https://ex...      True  \n",
       "3  {'bio': 'Bio of user 4', 'avatar': 'https://ex...      True  \n",
       "4  {'bio': 'Bio of user 5', 'avatar': 'https://ex...      True  "
      ]
     },
     "execution_count": 6,
     "metadata": {},
     "output_type": "execute_result"
    }
   ],
   "source": [
    "import pandas as pd\n",
    "\n",
    "users = db.users.find({}, {\"_id\": 0})\n",
    "df_users = pd.DataFrame(list(users))\n",
    "df_users.head()"
   ]
  },
  {
   "cell_type": "code",
   "execution_count": 7,
   "id": "5b9cc788",
   "metadata": {},
   "outputs": [
    {
     "data": {
      "text/html": [
       "<div>\n",
       "<style scoped>\n",
       "    .dataframe tbody tr th:only-of-type {\n",
       "        vertical-align: middle;\n",
       "    }\n",
       "\n",
       "    .dataframe tbody tr th {\n",
       "        vertical-align: top;\n",
       "    }\n",
       "\n",
       "    .dataframe thead th {\n",
       "        text-align: right;\n",
       "    }\n",
       "</style>\n",
       "<table border=\"1\" class=\"dataframe\">\n",
       "  <thead>\n",
       "    <tr style=\"text-align: right;\">\n",
       "      <th></th>\n",
       "      <th>_id</th>\n",
       "      <th>total</th>\n",
       "    </tr>\n",
       "  </thead>\n",
       "  <tbody>\n",
       "    <tr>\n",
       "      <th>0</th>\n",
       "      <td>student</td>\n",
       "      <td>19</td>\n",
       "    </tr>\n",
       "  </tbody>\n",
       "</table>\n",
       "</div>"
      ],
      "text/plain": [
       "       _id  total\n",
       "0  student     19"
      ]
     },
     "execution_count": 7,
     "metadata": {},
     "output_type": "execute_result"
    }
   ],
   "source": [
    "# Count total students\n",
    "pipeline = [\n",
    "    {\"$match\": {\"role\": \"student\"}},\n",
    "    {\"$group\": {\"_id\": \"$role\", \"total\": {\"$sum\": 1}}}\n",
    "]\n",
    "\n",
    "agg_result = list(db.users.aggregate(pipeline))\n",
    "pd.DataFrame(agg_result)"
   ]
  },
  {
   "cell_type": "code",
   "execution_count": null,
   "id": "cf7aa928",
   "metadata": {},
   "outputs": [],
   "source": [
    "### Conclusion\n",
    "This notebook demonstrates basic and advanced operations with MongoDB using PyMongo, including:\n",
    "- Connecting to MongoDB Atlas securely\n",
    "- Inserting and querying data\n",
    "- Performing updates and aggregations"
   ]
  }
 ],
 "metadata": {
  "kernelspec": {
   "display_name": ".venv",
   "language": "python",
   "name": "python3"
  },
  "language_info": {
   "codemirror_mode": {
    "name": "ipython",
    "version": 3
   },
   "file_extension": ".py",
   "mimetype": "text/x-python",
   "name": "python",
   "nbconvert_exporter": "python",
   "pygments_lexer": "ipython3",
   "version": "3.13.4"
  }
 },
 "nbformat": 4,
 "nbformat_minor": 5
}
